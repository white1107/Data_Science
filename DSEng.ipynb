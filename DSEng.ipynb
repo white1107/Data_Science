{
 "cells": [
  {
   "cell_type": "markdown",
   "metadata": {},
   "source": [
    "# Data Science Recognition for 'Boston House Prices dataset'"
   ]
  },
  {
   "cell_type": "markdown",
   "metadata": {},
   "source": [
    "This time I chose 'Boston house prices dataset'\n",
    "Because it is very popular and easy to understand for beginner like me.\n",
    "\n",
    "In this dataset, the goal is to predict the price of house.\n"
   ]
  },
  {
   "cell_type": "code",
   "execution_count": 247,
   "metadata": {},
   "outputs": [],
   "source": [
    "import pandas as pd\n",
    "from pandas import DataFrame\n",
    "import numpy as np\n",
    "import matplotlib.pyplot as plt\n",
    "import seaborn as sns\n",
    "%matplotlib inline\n",
    "from sklearn import datasets\n",
    "import copy"
   ]
  },
  {
   "cell_type": "code",
   "execution_count": 248,
   "metadata": {},
   "outputs": [
    {
     "data": {
      "text/html": [
       "<div>\n",
       "<style scoped>\n",
       "    .dataframe tbody tr th:only-of-type {\n",
       "        vertical-align: middle;\n",
       "    }\n",
       "\n",
       "    .dataframe tbody tr th {\n",
       "        vertical-align: top;\n",
       "    }\n",
       "\n",
       "    .dataframe thead th {\n",
       "        text-align: right;\n",
       "    }\n",
       "</style>\n",
       "<table border=\"1\" class=\"dataframe\">\n",
       "  <thead>\n",
       "    <tr style=\"text-align: right;\">\n",
       "      <th></th>\n",
       "      <th>0</th>\n",
       "      <th>1</th>\n",
       "      <th>2</th>\n",
       "      <th>3</th>\n",
       "      <th>4</th>\n",
       "      <th>5</th>\n",
       "      <th>6</th>\n",
       "      <th>7</th>\n",
       "      <th>8</th>\n",
       "      <th>9</th>\n",
       "      <th>10</th>\n",
       "      <th>11</th>\n",
       "      <th>12</th>\n",
       "    </tr>\n",
       "  </thead>\n",
       "  <tbody>\n",
       "    <tr>\n",
       "      <th>0</th>\n",
       "      <td>0.00632</td>\n",
       "      <td>18.0</td>\n",
       "      <td>2.31</td>\n",
       "      <td>0.0</td>\n",
       "      <td>0.538</td>\n",
       "      <td>6.575</td>\n",
       "      <td>65.2</td>\n",
       "      <td>4.0900</td>\n",
       "      <td>1.0</td>\n",
       "      <td>296.0</td>\n",
       "      <td>15.3</td>\n",
       "      <td>396.90</td>\n",
       "      <td>4.98</td>\n",
       "    </tr>\n",
       "    <tr>\n",
       "      <th>1</th>\n",
       "      <td>0.02731</td>\n",
       "      <td>0.0</td>\n",
       "      <td>7.07</td>\n",
       "      <td>0.0</td>\n",
       "      <td>0.469</td>\n",
       "      <td>6.421</td>\n",
       "      <td>78.9</td>\n",
       "      <td>4.9671</td>\n",
       "      <td>2.0</td>\n",
       "      <td>242.0</td>\n",
       "      <td>17.8</td>\n",
       "      <td>396.90</td>\n",
       "      <td>9.14</td>\n",
       "    </tr>\n",
       "    <tr>\n",
       "      <th>2</th>\n",
       "      <td>0.02729</td>\n",
       "      <td>0.0</td>\n",
       "      <td>7.07</td>\n",
       "      <td>0.0</td>\n",
       "      <td>0.469</td>\n",
       "      <td>7.185</td>\n",
       "      <td>61.1</td>\n",
       "      <td>4.9671</td>\n",
       "      <td>2.0</td>\n",
       "      <td>242.0</td>\n",
       "      <td>17.8</td>\n",
       "      <td>392.83</td>\n",
       "      <td>4.03</td>\n",
       "    </tr>\n",
       "    <tr>\n",
       "      <th>3</th>\n",
       "      <td>0.03237</td>\n",
       "      <td>0.0</td>\n",
       "      <td>2.18</td>\n",
       "      <td>0.0</td>\n",
       "      <td>0.458</td>\n",
       "      <td>6.998</td>\n",
       "      <td>45.8</td>\n",
       "      <td>6.0622</td>\n",
       "      <td>3.0</td>\n",
       "      <td>222.0</td>\n",
       "      <td>18.7</td>\n",
       "      <td>394.63</td>\n",
       "      <td>2.94</td>\n",
       "    </tr>\n",
       "    <tr>\n",
       "      <th>4</th>\n",
       "      <td>0.06905</td>\n",
       "      <td>0.0</td>\n",
       "      <td>2.18</td>\n",
       "      <td>0.0</td>\n",
       "      <td>0.458</td>\n",
       "      <td>7.147</td>\n",
       "      <td>54.2</td>\n",
       "      <td>6.0622</td>\n",
       "      <td>3.0</td>\n",
       "      <td>222.0</td>\n",
       "      <td>18.7</td>\n",
       "      <td>396.90</td>\n",
       "      <td>5.33</td>\n",
       "    </tr>\n",
       "  </tbody>\n",
       "</table>\n",
       "</div>"
      ],
      "text/plain": [
       "        0     1     2    3      4      5     6       7    8      9     10  \\\n",
       "0  0.00632  18.0  2.31  0.0  0.538  6.575  65.2  4.0900  1.0  296.0  15.3   \n",
       "1  0.02731   0.0  7.07  0.0  0.469  6.421  78.9  4.9671  2.0  242.0  17.8   \n",
       "2  0.02729   0.0  7.07  0.0  0.469  7.185  61.1  4.9671  2.0  242.0  17.8   \n",
       "3  0.03237   0.0  2.18  0.0  0.458  6.998  45.8  6.0622  3.0  222.0  18.7   \n",
       "4  0.06905   0.0  2.18  0.0  0.458  7.147  54.2  6.0622  3.0  222.0  18.7   \n",
       "\n",
       "       11    12  \n",
       "0  396.90  4.98  \n",
       "1  396.90  9.14  \n",
       "2  392.83  4.03  \n",
       "3  394.63  2.94  \n",
       "4  396.90  5.33  "
      ]
     },
     "execution_count": 248,
     "metadata": {},
     "output_type": "execute_result"
    }
   ],
   "source": [
    "datasets = datasets.load_boston()\n",
    "df = DataFrame(datasets.data)\n",
    "\n",
    "#check the date\n",
    "df.head()"
   ]
  },
  {
   "cell_type": "code",
   "execution_count": 249,
   "metadata": {},
   "outputs": [
    {
     "name": "stdout",
     "output_type": "stream",
     "text": [
      ".. _boston_dataset:\n",
      "\n",
      "Boston house prices dataset\n",
      "---------------------------\n",
      "\n",
      "**Data Set Characteristics:**  \n",
      "\n",
      "    :Number of Instances: 506 \n",
      "\n",
      "    :Number of Attributes: 13 numeric/categorical predictive. Median Value (attribute 14) is usually the target.\n",
      "\n",
      "    :Attribute Information (in order):\n",
      "        - CRIM     per capita crime rate by town\n",
      "        - ZN       proportion of residential land zoned for lots over 25,000 sq.ft.\n",
      "        - INDUS    proportion of non-retail business acres per town\n",
      "        - CHAS     Charles River dummy variable (= 1 if tract bounds river; 0 otherwise)\n",
      "        - NOX      nitric oxides concentration (parts per 10 million)\n",
      "        - RM       average number of rooms per dwelling\n",
      "        - AGE      proportion of owner-occupied units built prior to 1940\n",
      "        - DIS      weighted distances to five Boston employment centres\n",
      "        - RAD      index of accessibility to radial highways\n",
      "        - TAX      full-value property-tax rate per $10,000\n",
      "        - PTRATIO  pupil-teacher ratio by town\n",
      "        - B        1000(Bk - 0.63)^2 where Bk is the proportion of blacks by town\n",
      "        - LSTAT    % lower status of the population\n",
      "        - MEDV     Median value of owner-occupied homes in $1000's\n",
      "\n",
      "    :Missing Attribute Values: None\n",
      "\n",
      "    :Creator: Harrison, D. and Rubinfeld, D.L.\n",
      "\n",
      "This is a copy of UCI ML housing dataset.\n",
      "https://archive.ics.uci.edu/ml/machine-learning-databases/housing/\n",
      "\n",
      "\n",
      "This dataset was taken from the StatLib library which is maintained at Carnegie Mellon University.\n",
      "\n",
      "The Boston house-price data of Harrison, D. and Rubinfeld, D.L. 'Hedonic\n",
      "prices and the demand for clean air', J. Environ. Economics & Management,\n",
      "vol.5, 81-102, 1978.   Used in Belsley, Kuh & Welsch, 'Regression diagnostics\n",
      "...', Wiley, 1980.   N.B. Various transformations are used in the table on\n",
      "pages 244-261 of the latter.\n",
      "\n",
      "The Boston house-price data has been used in many machine learning papers that address regression\n",
      "problems.   \n",
      "     \n",
      ".. topic:: References\n",
      "\n",
      "   - Belsley, Kuh & Welsch, 'Regression diagnostics: Identifying Influential Data and Sources of Collinearity', Wiley, 1980. 244-261.\n",
      "   - Quinlan,R. (1993). Combining Instance-Based and Model-Based Learning. In Proceedings on the Tenth International Conference of Machine Learning, 236-243, University of Massachusetts, Amherst. Morgan Kaufmann.\n",
      "\n"
     ]
    }
   ],
   "source": [
    "#it shows the class label\n",
    "print(datasets.DESCR)"
   ]
  },
  {
   "cell_type": "code",
   "execution_count": 250,
   "metadata": {},
   "outputs": [
    {
     "name": "stdout",
     "output_type": "stream",
     "text": [
      "Index(['CRIM', 'ZN', 'INDUS', 'CHAS', 'NOX', 'RM', 'AGE', 'DIS', 'RAD', 'TAX',\n",
      "       'PTRATIO', 'B', 'LSTAT'],\n",
      "      dtype='object')\n"
     ]
    }
   ],
   "source": [
    "df.columns = datasets.feature_names\n",
    "\n",
    "numerical_feats = df.dtypes[df.dtypes != \"object\"].index\n",
    "categorical_feats = df.dtypes[df.dtypes == \"object\"].index\n",
    "\n",
    "print(numerical_feats)"
   ]
  },
  {
   "cell_type": "code",
   "execution_count": 251,
   "metadata": {},
   "outputs": [
    {
     "data": {
      "text/html": [
       "<div>\n",
       "<style scoped>\n",
       "    .dataframe tbody tr th:only-of-type {\n",
       "        vertical-align: middle;\n",
       "    }\n",
       "\n",
       "    .dataframe tbody tr th {\n",
       "        vertical-align: top;\n",
       "    }\n",
       "\n",
       "    .dataframe thead th {\n",
       "        text-align: right;\n",
       "    }\n",
       "</style>\n",
       "<table border=\"1\" class=\"dataframe\">\n",
       "  <thead>\n",
       "    <tr style=\"text-align: right;\">\n",
       "      <th></th>\n",
       "      <th>CRIM</th>\n",
       "      <th>ZN</th>\n",
       "      <th>INDUS</th>\n",
       "      <th>CHAS</th>\n",
       "      <th>NOX</th>\n",
       "      <th>RM</th>\n",
       "      <th>AGE</th>\n",
       "      <th>DIS</th>\n",
       "      <th>RAD</th>\n",
       "      <th>TAX</th>\n",
       "      <th>PTRATIO</th>\n",
       "      <th>B</th>\n",
       "      <th>LSTAT</th>\n",
       "      <th>PRICE</th>\n",
       "    </tr>\n",
       "  </thead>\n",
       "  <tbody>\n",
       "    <tr>\n",
       "      <th>0</th>\n",
       "      <td>0.00632</td>\n",
       "      <td>18.0</td>\n",
       "      <td>2.31</td>\n",
       "      <td>0.0</td>\n",
       "      <td>0.538</td>\n",
       "      <td>6.575</td>\n",
       "      <td>65.2</td>\n",
       "      <td>4.0900</td>\n",
       "      <td>1.0</td>\n",
       "      <td>296.0</td>\n",
       "      <td>15.3</td>\n",
       "      <td>396.90</td>\n",
       "      <td>4.98</td>\n",
       "      <td>24.0</td>\n",
       "    </tr>\n",
       "    <tr>\n",
       "      <th>1</th>\n",
       "      <td>0.02731</td>\n",
       "      <td>0.0</td>\n",
       "      <td>7.07</td>\n",
       "      <td>0.0</td>\n",
       "      <td>0.469</td>\n",
       "      <td>6.421</td>\n",
       "      <td>78.9</td>\n",
       "      <td>4.9671</td>\n",
       "      <td>2.0</td>\n",
       "      <td>242.0</td>\n",
       "      <td>17.8</td>\n",
       "      <td>396.90</td>\n",
       "      <td>9.14</td>\n",
       "      <td>21.6</td>\n",
       "    </tr>\n",
       "    <tr>\n",
       "      <th>2</th>\n",
       "      <td>0.02729</td>\n",
       "      <td>0.0</td>\n",
       "      <td>7.07</td>\n",
       "      <td>0.0</td>\n",
       "      <td>0.469</td>\n",
       "      <td>7.185</td>\n",
       "      <td>61.1</td>\n",
       "      <td>4.9671</td>\n",
       "      <td>2.0</td>\n",
       "      <td>242.0</td>\n",
       "      <td>17.8</td>\n",
       "      <td>392.83</td>\n",
       "      <td>4.03</td>\n",
       "      <td>34.7</td>\n",
       "    </tr>\n",
       "    <tr>\n",
       "      <th>3</th>\n",
       "      <td>0.03237</td>\n",
       "      <td>0.0</td>\n",
       "      <td>2.18</td>\n",
       "      <td>0.0</td>\n",
       "      <td>0.458</td>\n",
       "      <td>6.998</td>\n",
       "      <td>45.8</td>\n",
       "      <td>6.0622</td>\n",
       "      <td>3.0</td>\n",
       "      <td>222.0</td>\n",
       "      <td>18.7</td>\n",
       "      <td>394.63</td>\n",
       "      <td>2.94</td>\n",
       "      <td>33.4</td>\n",
       "    </tr>\n",
       "    <tr>\n",
       "      <th>4</th>\n",
       "      <td>0.06905</td>\n",
       "      <td>0.0</td>\n",
       "      <td>2.18</td>\n",
       "      <td>0.0</td>\n",
       "      <td>0.458</td>\n",
       "      <td>7.147</td>\n",
       "      <td>54.2</td>\n",
       "      <td>6.0622</td>\n",
       "      <td>3.0</td>\n",
       "      <td>222.0</td>\n",
       "      <td>18.7</td>\n",
       "      <td>396.90</td>\n",
       "      <td>5.33</td>\n",
       "      <td>36.2</td>\n",
       "    </tr>\n",
       "  </tbody>\n",
       "</table>\n",
       "</div>"
      ],
      "text/plain": [
       "      CRIM    ZN  INDUS  CHAS    NOX     RM   AGE     DIS  RAD    TAX  \\\n",
       "0  0.00632  18.0   2.31   0.0  0.538  6.575  65.2  4.0900  1.0  296.0   \n",
       "1  0.02731   0.0   7.07   0.0  0.469  6.421  78.9  4.9671  2.0  242.0   \n",
       "2  0.02729   0.0   7.07   0.0  0.469  7.185  61.1  4.9671  2.0  242.0   \n",
       "3  0.03237   0.0   2.18   0.0  0.458  6.998  45.8  6.0622  3.0  222.0   \n",
       "4  0.06905   0.0   2.18   0.0  0.458  7.147  54.2  6.0622  3.0  222.0   \n",
       "\n",
       "   PTRATIO       B  LSTAT  PRICE  \n",
       "0     15.3  396.90   4.98   24.0  \n",
       "1     17.8  396.90   9.14   21.6  \n",
       "2     17.8  392.83   4.03   34.7  \n",
       "3     18.7  394.63   2.94   33.4  \n",
       "4     18.7  396.90   5.33   36.2  "
      ]
     },
     "execution_count": 251,
     "metadata": {},
     "output_type": "execute_result"
    }
   ],
   "source": [
    "price = datasets.target\n",
    "df.head()\n",
    "df['PRICE'] = price\n",
    "\n",
    "#for ease of understand, replace lavel number to name\n",
    "df.head()"
   ]
  },
  {
   "cell_type": "code",
   "execution_count": 252,
   "metadata": {},
   "outputs": [
    {
     "name": "stdout",
     "output_type": "stream",
     "text": [
      "(506, 14)\n"
     ]
    }
   ],
   "source": [
    "#show the data size and type\n",
    "print(df.shape)"
   ]
  },
  {
   "cell_type": "markdown",
   "metadata": {},
   "source": [
    "# check missing data"
   ]
  },
  {
   "cell_type": "code",
   "execution_count": 253,
   "metadata": {},
   "outputs": [
    {
     "data": {
      "text/html": [
       "<div>\n",
       "<style scoped>\n",
       "    .dataframe tbody tr th:only-of-type {\n",
       "        vertical-align: middle;\n",
       "    }\n",
       "\n",
       "    .dataframe tbody tr th {\n",
       "        vertical-align: top;\n",
       "    }\n",
       "\n",
       "    .dataframe thead th {\n",
       "        text-align: right;\n",
       "    }\n",
       "</style>\n",
       "<table border=\"1\" class=\"dataframe\">\n",
       "  <thead>\n",
       "    <tr style=\"text-align: right;\">\n",
       "      <th></th>\n",
       "      <th>Total</th>\n",
       "      <th>Percent</th>\n",
       "    </tr>\n",
       "  </thead>\n",
       "  <tbody>\n",
       "    <tr>\n",
       "      <th>PRICE</th>\n",
       "      <td>0</td>\n",
       "      <td>0.0</td>\n",
       "    </tr>\n",
       "    <tr>\n",
       "      <th>LSTAT</th>\n",
       "      <td>0</td>\n",
       "      <td>0.0</td>\n",
       "    </tr>\n",
       "    <tr>\n",
       "      <th>B</th>\n",
       "      <td>0</td>\n",
       "      <td>0.0</td>\n",
       "    </tr>\n",
       "    <tr>\n",
       "      <th>PTRATIO</th>\n",
       "      <td>0</td>\n",
       "      <td>0.0</td>\n",
       "    </tr>\n",
       "    <tr>\n",
       "      <th>TAX</th>\n",
       "      <td>0</td>\n",
       "      <td>0.0</td>\n",
       "    </tr>\n",
       "    <tr>\n",
       "      <th>RAD</th>\n",
       "      <td>0</td>\n",
       "      <td>0.0</td>\n",
       "    </tr>\n",
       "    <tr>\n",
       "      <th>DIS</th>\n",
       "      <td>0</td>\n",
       "      <td>0.0</td>\n",
       "    </tr>\n",
       "    <tr>\n",
       "      <th>AGE</th>\n",
       "      <td>0</td>\n",
       "      <td>0.0</td>\n",
       "    </tr>\n",
       "    <tr>\n",
       "      <th>RM</th>\n",
       "      <td>0</td>\n",
       "      <td>0.0</td>\n",
       "    </tr>\n",
       "    <tr>\n",
       "      <th>NOX</th>\n",
       "      <td>0</td>\n",
       "      <td>0.0</td>\n",
       "    </tr>\n",
       "    <tr>\n",
       "      <th>CHAS</th>\n",
       "      <td>0</td>\n",
       "      <td>0.0</td>\n",
       "    </tr>\n",
       "    <tr>\n",
       "      <th>INDUS</th>\n",
       "      <td>0</td>\n",
       "      <td>0.0</td>\n",
       "    </tr>\n",
       "    <tr>\n",
       "      <th>ZN</th>\n",
       "      <td>0</td>\n",
       "      <td>0.0</td>\n",
       "    </tr>\n",
       "    <tr>\n",
       "      <th>CRIM</th>\n",
       "      <td>0</td>\n",
       "      <td>0.0</td>\n",
       "    </tr>\n",
       "  </tbody>\n",
       "</table>\n",
       "</div>"
      ],
      "text/plain": [
       "         Total  Percent\n",
       "PRICE        0      0.0\n",
       "LSTAT        0      0.0\n",
       "B            0      0.0\n",
       "PTRATIO      0      0.0\n",
       "TAX          0      0.0\n",
       "RAD          0      0.0\n",
       "DIS          0      0.0\n",
       "AGE          0      0.0\n",
       "RM           0      0.0\n",
       "NOX          0      0.0\n",
       "CHAS         0      0.0\n",
       "INDUS        0      0.0\n",
       "ZN           0      0.0\n",
       "CRIM         0      0.0"
      ]
     },
     "execution_count": 253,
     "metadata": {},
     "output_type": "execute_result"
    }
   ],
   "source": [
    "#check missing data\n",
    "total = df.isnull().sum().sort_values(ascending=False)\n",
    "percent = (total.isnull().sum()/df.isnull().count()).sort_values(ascending=False)\n",
    "missing_data = pd.concat([total, percent], axis=1, keys=['Total', 'Percent'])\n",
    "missing_data.head(20)"
   ]
  },
  {
   "cell_type": "markdown",
   "metadata": {},
   "source": [
    "### From above cell, we can find this date no missing\n",
    "### Next we use linear_model from sklearn for regression"
   ]
  },
  {
   "cell_type": "markdown",
   "metadata": {},
   "source": [
    "## LinerRegression "
   ]
  },
  {
   "cell_type": "code",
   "execution_count": 254,
   "metadata": {},
   "outputs": [],
   "source": [
    "train ,test = train_test_split(df, test_size=0.2)"
   ]
  },
  {
   "cell_type": "code",
   "execution_count": 255,
   "metadata": {},
   "outputs": [
    {
     "name": "stdout",
     "output_type": "stream",
     "text": [
      "37.58219451729448\n",
      "0.6576538041495668\n"
     ]
    }
   ],
   "source": [
    "from sklearn import linear_model\n",
    "from sklearn.preprocessing import StandardScaler\n",
    "from sklearn.model_selection import train_test_split\n",
    "clf1 = linear_model.LinearRegression()\n",
    "X_train = train.drop('PRICE',axis = 1)\n",
    "X_test = test.drop('PRICE',axis = 1)\n",
    "Y_train = train['PRICE']\n",
    "Y_test = test['PRICE']\n",
    "clf1.fit(X_train,Y_train)\n",
    "print(clf1.intercept_) # \n",
    "print(clf1.score(X_test,Y_test)) # R^2"
   ]
  },
  {
   "cell_type": "markdown",
   "metadata": {},
   "source": [
    "### The result is 0.7406426641094095\n",
    "### This seems to be not bad.\n",
    "### Next I'show the describe about the imformation for this datasets."
   ]
  },
  {
   "cell_type": "markdown",
   "metadata": {},
   "source": [
    "# Coefficient"
   ]
  },
  {
   "cell_type": "code",
   "execution_count": 256,
   "metadata": {},
   "outputs": [
    {
     "name": "stdout",
     "output_type": "stream",
     "text": [
      "       Name  Coefficients\n",
      "4       NOX    -18.587731\n",
      "7       DIS     -1.581795\n",
      "10  PTRATIO     -0.939452\n",
      "12    LSTAT     -0.534554\n",
      "0      CRIM     -0.106512\n",
      "9       TAX     -0.012293\n",
      "2     INDUS      0.001887\n",
      "11        B      0.008590\n",
      "6       AGE      0.009348\n",
      "1        ZN      0.056493\n",
      "8       RAD      0.279696\n",
      "3      CHAS      2.581151\n",
      "5        RM      3.746138\n"
     ]
    }
   ],
   "source": [
    "print(pd.DataFrame({\"Name\":X_train.columns,\n",
    "                    \"Coefficients\":clf1.coef_}).sort_values(by='Coefficients') ) # "
   ]
  },
  {
   "cell_type": "markdown",
   "metadata": {},
   "source": [
    "### From this result, the RM is the biggest factor to decide the house's prices, and also CHAS is the second biggest factor. It's surprising.\n",
    "### On the other hand, B and AGE is very low score.\n",
    "### This is also showed in following graph."
   ]
  },
  {
   "cell_type": "code",
   "execution_count": 257,
   "metadata": {},
   "outputs": [
    {
     "data": {
      "text/plain": [
       "<matplotlib.legend.Legend at 0x7fc9252ccba8>"
      ]
     },
     "execution_count": 257,
     "metadata": {},
     "output_type": "execute_result"
    },
    {
     "data": {
      "image/png": "[encoded data removed]",
      "text/plain": [
       "<Figure size 432x288 with 1 Axes>"
      ]
     },
     "metadata": {
      "needs_background": "light"
     },
     "output_type": "display_data"
    }
   ],
   "source": [
    "plt.figure(1)\n",
    "plt.title('raw X-data')\n",
    "plt.xlabel('RM (number of rooms)', fontsize=14)\n",
    "plt.ylabel('PRICE (target)', fontsize=14)\n",
    "plt.scatter(X_train['RM'], Y_train, c='blue', label='Raw data')\n",
    "plt.scatter(X_test['RM'],clf1.predict(X_test), c='red', label='Multiple regression analysis')\n",
    "plt.legend(loc='lower right', fontsize=12)\n",
    "#"
   ]
  },
  {
   "cell_type": "markdown",
   "metadata": {},
   "source": [
    "### In the previous experiment, we use all columns.\n",
    "### So, we can reduce Multicollinearity and improve the score."
   ]
  },
  {
   "cell_type": "markdown",
   "metadata": {},
   "source": [
    "# LinearRegression (without AGE and TAX)"
   ]
  },
  {
   "cell_type": "code",
   "execution_count": 258,
   "metadata": {},
   "outputs": [],
   "source": [
    "clf2 = linear_model.LinearRegression()\n",
    "columns = ['AGE','TAX']\n",
    "train2 = train.copy()\n",
    "test2 = test.copy()\n",
    "train2 = train2.drop(columns,axis = 1)\n",
    "test2 = test2.drop(columns,axis = 1)\n",
    "X_train2 = train2.drop('PRICE',axis = 1)\n",
    "X_test2 = test2.drop('PRICE',axis = 1)\n",
    "Y_train2 = train2['PRICE']\n",
    "Y_test2 = test2['PRICE']"
   ]
  },
  {
   "cell_type": "code",
   "execution_count": 259,
   "metadata": {},
   "outputs": [
    {
     "name": "stdout",
     "output_type": "stream",
     "text": [
      "35.748316422046344\n",
      "0.6509640552994899\n"
     ]
    }
   ],
   "source": [
    "clf2.fit(X_train2,Y_train2)\n",
    "print(clf2.intercept_) # intercept\n",
    "print(clf2.score(X_test2,Y_test2)) # R^2"
   ]
  },
  {
   "cell_type": "markdown",
   "metadata": {},
   "source": [
    "# What we can learn from the graph\n",
    "# 1 Logarithm\n",
    "By the way let's see the graphs."
   ]
  },
  {
   "cell_type": "code",
   "execution_count": 260,
   "metadata": {},
   "outputs": [
    {
     "data": {
      "image/png": "[encoded data removed]",
      "text/plain": [
       "<Figure size 432x288 with 1 Axes>"
      ]
     },
     "metadata": {},
     "output_type": "display_data"
    },
    {
     "data": {
      "image/png": "[encoded data removed]",
      "text/plain": [
       "<Figure size 432x288 with 1 Axes>"
      ]
     },
     "metadata": {},
     "output_type": "display_data"
    },
    {
     "data": {
      "image/png": "[encoded data removed]",
      "text/plain": [
       "<Figure size 432x288 with 1 Axes>"
      ]
     },
     "metadata": {},
     "output_type": "display_data"
    },
    {
     "data": {
      "image/png": "[encoded data removed]",
      "text/plain": [
       "<Figure size 432x288 with 1 Axes>"
      ]
     },
     "metadata": {},
     "output_type": "display_data"
    },
    {
     "data": {
      "image/png": "[encoded data removed]",
      "text/plain": [
       "<Figure size 432x288 with 1 Axes>"
      ]
     },
     "metadata": {},
     "output_type": "display_data"
    },
    {
     "data": {
      "image/png": "[encoded data removed]",
      "text/plain": [
       "<Figure size 432x288 with 1 Axes>"
      ]
     },
     "metadata": {},
     "output_type": "display_data"
    },
    {
     "data": {
      "image/png": "[encoded data removed]",
      "text/plain": [
       "<Figure size 432x288 with 1 Axes>"
      ]
     },
     "metadata": {},
     "output_type": "display_data"
    },
    {
     "data": {
      "image/png": "[encoded data removed]",
      "text/plain": [
       "<Figure size 432x288 with 1 Axes>"
      ]
     },
     "metadata": {},
     "output_type": "display_data"
    },
    {
     "data": {
      "image/png": "[encoded data removed]",
      "text/plain": [
       "<Figure size 432x288 with 1 Axes>"
      ]
     },
     "metadata": {},
     "output_type": "display_data"
    },
    {
     "data": {
      "image/png": "[encoded data removed]",
      "text/plain": [
       "<Figure size 432x288 with 1 Axes>"
      ]
     },
     "metadata": {},
     "output_type": "display_data"
    },
    {
     "data": {
      "image/png": "[encoded data removed]",
      "text/plain": [
       "<Figure size 432x288 with 1 Axes>"
      ]
     },
     "metadata": {},
     "output_type": "display_data"
    },
    {
     "data": {
      "image/png": "[encoded data removed]",
      "text/plain": [
       "<Figure size 432x288 with 1 Axes>"
      ]
     },
     "metadata": {},
     "output_type": "display_data"
    },
    {
     "data": {
      "image/png": "[encoded data removed]",
      "text/plain": [
       "<Figure size 432x288 with 1 Axes>"
      ]
     },
     "metadata": {},
     "output_type": "display_data"
    }
   ],
   "source": [
    "sns.set(style=\"whitegrid\")\n",
    "plt.subplot()\n",
    "for col in numerical_feats:\n",
    "    plt.hist(df[col])\n",
    "    plt.title(col)\n",
    "    plt.show()"
   ]
  },
  {
   "cell_type": "markdown",
   "metadata": {},
   "source": [
    "Some of graph looks not good, for example CRIM, DIS and so on.\n",
    "So let use log for them."
   ]
  },
  {
   "cell_type": "code",
   "execution_count": 261,
   "metadata": {},
   "outputs": [
    {
     "data": {
      "image/png": "[encoded data removed]",
      "text/plain": [
       "<Figure size 432x288 with 2 Axes>"
      ]
     },
     "metadata": {},
     "output_type": "display_data"
    },
    {
     "data": {
      "image/png": "[encoded data removed]",
      "text/plain": [
       "<Figure size 432x288 with 2 Axes>"
      ]
     },
     "metadata": {},
     "output_type": "display_data"
    },
    {
     "data": {
      "image/png": "[encoded data removed]",
      "text/plain": [
       "<Figure size 432x288 with 2 Axes>"
      ]
     },
     "metadata": {},
     "output_type": "display_data"
    },
    {
     "data": {
      "image/png": "[encoded data removed]",
      "text/plain": [
       "<Figure size 432x288 with 2 Axes>"
      ]
     },
     "metadata": {},
     "output_type": "display_data"
    },
    {
     "data": {
      "image/png": "[encoded data removed]",
      "text/plain": [
       "<Figure size 432x288 with 2 Axes>"
      ]
     },
     "metadata": {},
     "output_type": "display_data"
    },
    {
     "data": {
      "image/png": "[encoded data removed]",
      "text/plain": [
       "<Figure size 432x288 with 2 Axes>"
      ]
     },
     "metadata": {},
     "output_type": "display_data"
    },
    {
     "data": {
      "image/png": "[encoded data removed]",
      "text/plain": [
       "<Figure size 432x288 with 2 Axes>"
      ]
     },
     "metadata": {},
     "output_type": "display_data"
    },
    {
     "data": {
      "image/png": "[encoded data removed]",
      "text/plain": [
       "<Figure size 432x288 with 2 Axes>"
      ]
     },
     "metadata": {},
     "output_type": "display_data"
    },
    {
     "data": {
      "image/png": "[encoded data removed]",
      "text/plain": [
       "<Figure size 432x288 with 2 Axes>"
      ]
     },
     "metadata": {},
     "output_type": "display_data"
    },
    {
     "data": {
      "image/png": "[encoded data removed]",
      "text/plain": [
       "<Figure size 432x288 with 2 Axes>"
      ]
     },
     "metadata": {},
     "output_type": "display_data"
    },
    {
     "data": {
      "image/png": "[encoded data removed]",
      "text/plain": [
       "<Figure size 432x288 with 2 Axes>"
      ]
     },
     "metadata": {},
     "output_type": "display_data"
    }
   ],
   "source": [
    "plt.subplot()\n",
    "for col in numerical_feats:\n",
    "    if not ((df[col] == 0).sum()):  \n",
    "        plt.subplot(1,2,1)\n",
    "        plt.hist(df[col])\n",
    "        plt.title(col)\n",
    "        plt.subplot(1,2,2)\n",
    "        plt.hist(np.log(df[col]),color='green')\n",
    "        plt.title(col)\n",
    "        plt.show()"
   ]
  },
  {
   "cell_type": "markdown",
   "metadata": {},
   "source": [
    "That's great!\n",
    "CRIM and DIS become better."
   ]
  },
  {
   "cell_type": "code",
   "execution_count": 262,
   "metadata": {},
   "outputs": [],
   "source": [
    "clf3 = linear_model.LinearRegression()\n",
    "train3,test3 = train.copy(),test.copy()\n",
    "train3['CRIM'] = np.log(train['CRIM'])\n",
    "train3['DIS'] = np.log(train['DIS'])\n",
    "test3['CRIM'] = np.log(test['CRIM'])\n",
    "test3['DIS'] = np.log(test['DIS'])\n",
    "\n",
    "X_train3 = train3.drop('PRICE',axis = 1)\n",
    "X_test3 = test3.drop('PRICE',axis = 1)\n",
    "Y_train3 = train3['PRICE']\n",
    "Y_test3 = test3['PRICE']"
   ]
  },
  {
   "cell_type": "code",
   "execution_count": 263,
   "metadata": {},
   "outputs": [
    {
     "name": "stdout",
     "output_type": "stream",
     "text": [
      "45.679167529666216\n",
      "0.6805098327081167\n"
     ]
    }
   ],
   "source": [
    "clf3.fit(X_train3,Y_train3)\n",
    "print(clf3.intercept_) # intercept\n",
    "print(clf3.score(X_test3,Y_test3)) # R^2"
   ]
  },
  {
   "cell_type": "markdown",
   "metadata": {},
   "source": [
    "# What we can learn from the graph\n",
    "# 2 Binarization\n",
    "From the graph, we can also find that CHAS and ZN is very parse.\n",
    "So apply binarization, and convert to (0,1)"
   ]
  },
  {
   "cell_type": "code",
   "execution_count": 264,
   "metadata": {},
   "outputs": [],
   "source": [
    "from sklearn.preprocessing import Binarizer\n",
    "clf4 = linear_model.LinearRegression()\n",
    "train4,test4 = train.copy(),test.copy()\n",
    "train4.loc[train4['ZN']<10,'ZN'] = 0\n",
    "train4.loc[train4['ZN']>=10,'ZN'] = 1\n",
    "train4.loc[train4['B']<200,'B'] = 0\n",
    "train4.loc[train4['B']>=200,'B'] = 1\n",
    "test4.loc[test4['ZN']<10,'ZN'] = 0\n",
    "test4.loc[test4['ZN']>=10,'ZN'] = 1\n",
    "test4.loc[test4['B']<200,'B'] = 0\n",
    "test4.loc[test4['B']>=200,'B'] = 1\n",
    "\n",
    "X_train4 = train4.drop('PRICE',axis = 1)\n",
    "X_test4 = test4.drop('PRICE',axis = 1)\n",
    "Y_train4 = train4['PRICE']\n",
    "Y_test4 = test4['PRICE']\n"
   ]
  },
  {
   "cell_type": "code",
   "execution_count": 265,
   "metadata": {},
   "outputs": [
    {
     "name": "stdout",
     "output_type": "stream",
     "text": [
      "38.076491787803135\n",
      "0.6716115391811014\n"
     ]
    }
   ],
   "source": [
    "clf4.fit(X_train4,Y_train4)\n",
    "print(clf4.intercept_) # intercept\n",
    "print(clf4.score(X_test4,Y_test4)) # R^2"
   ]
  },
  {
   "cell_type": "code",
   "execution_count": 266,
   "metadata": {},
   "outputs": [
    {
     "name": "stdout",
     "output_type": "stream",
     "text": [
      "0.6576538041495668\n",
      "0.6509640552994899\n",
      "0.6805098327081167\n",
      "0.6716115391811014\n"
     ]
    }
   ],
   "source": [
    "clf1.fit(X_train,Y_train)\n",
    "# print(clf1.intercept_) # \n",
    "print(clf1.score(X_test,Y_test)) # R^2\n",
    "\n",
    "clf2.fit(X_train2,Y_train2)\n",
    "# print(clf2.intercept_) # intercept\n",
    "print(clf2.score(X_test2,Y_test2)) # R^2\n",
    "\n",
    "clf3.fit(X_train3,Y_train3)\n",
    "# print(clf3.intercept_) # intercept\n",
    "print(clf3.score(X_test3,Y_test3)) # R^2\n",
    "\n",
    "clf4.fit(X_train4,Y_train4)\n",
    "# print(clf4.intercept_) # intercept\n",
    "print(clf4.score(X_test4,Y_test4)) # R^2"
   ]
  },
  {
   "cell_type": "markdown",
   "metadata": {},
   "source": [
    "# Get the average score\n",
    "Get the average score of each way,\n",
    "In this experiment, I try 2000 times."
   ]
  },
  {
   "cell_type": "code",
   "execution_count": 268,
   "metadata": {},
   "outputs": [
    {
     "name": "stdout",
     "output_type": "stream",
     "text": [
      "Basic Model\n",
      "0.7128155107580243\n",
      "Model with fewer columns\n",
      "0.7090515826602085\n",
      "Logarithm\n",
      "0.7224802899342827\n",
      "Binarization\n",
      "0.7075159340650856\n",
      "2+3+4 ways\n",
      "0.7155908592552551\n"
     ]
    }
   ],
   "source": [
    "C1,C2,C3,C4,C5 = [],[],[],[],[]\n",
    "for i in range(2000):\n",
    "    train ,test = train_test_split(df, test_size=0.2)\n",
    "    #######First\n",
    "    clf1 = linear_model.LinearRegression()\n",
    "    X_train = train.drop('PRICE',axis = 1)\n",
    "    X_test = test.drop('PRICE',axis = 1)\n",
    "    Y_train = train['PRICE']\n",
    "    Y_test = test['PRICE']\n",
    "    clf1.fit(X_train,Y_train)\n",
    "    C1.append(clf1.score(X_test,Y_test))\n",
    "\n",
    "    #######Second\n",
    "    clf2 = linear_model.LinearRegression()\n",
    "    columns = ['AGE','TAX']\n",
    "    train2 = train.copy()\n",
    "    test2 = test.copy()\n",
    "    train2 = train2.drop(columns,axis = 1)\n",
    "    test2 = test2.drop(columns,axis = 1)\n",
    "    \n",
    "    X_train2 = train2.drop('PRICE',axis = 1)\n",
    "    X_test2 = test2.drop('PRICE',axis = 1)\n",
    "    Y_train2 = train2['PRICE']\n",
    "    Y_test2 = test2['PRICE']\n",
    "\n",
    "    clf2.fit(X_train2,Y_train2)\n",
    "    C2.append(clf2.score(X_test2,Y_test2)) # R^2\n",
    "\n",
    "    #######Third\n",
    "    clf3 = linear_model.LinearRegression()\n",
    "    train3,test3 = train.copy(),test.copy()\n",
    "    train3['CRIM'] = np.log(train['CRIM'])\n",
    "    train3['DIS'] = np.log(train['DIS'])\n",
    "    test3['CRIM'] = np.log(test['CRIM'])\n",
    "    test3['DIS'] = np.log(test['DIS'])\n",
    "\n",
    "    X_train3 = train3.drop('PRICE',axis = 1)\n",
    "    X_test3 = test3.drop('PRICE',axis = 1)\n",
    "    Y_train3 = train3['PRICE']\n",
    "    Y_test3 = test3['PRICE']\n",
    "\n",
    "    clf3.fit(X_train3,Y_train3)\n",
    "    C3.append(clf3.score(X_test3,Y_test3)) # R^2\n",
    "\n",
    "    ########Fourth\n",
    "    clf4 = linear_model.LinearRegression()\n",
    "    train4,test4 = train.copy(),test.copy()\n",
    "    train4.loc[train4['ZN']<10,'ZN'] = 0\n",
    "    train4.loc[train4['ZN']>=10,'ZN'] = 1\n",
    "    train4.loc[train4['B']<200,'B'] = 0\n",
    "    train4.loc[train4['B']>=200,'B'] = 1\n",
    "    test4.loc[test4['ZN']<10,'ZN'] = 0\n",
    "    test4.loc[test4['ZN']>=10,'ZN'] = 1\n",
    "    test4.loc[test4['B']<200,'B'] = 0\n",
    "    test4.loc[test4['B']>=200,'B'] = 1\n",
    "\n",
    "    X_train4 = train4.drop('PRICE',axis = 1)\n",
    "    X_test4 = test4.drop('PRICE',axis = 1)\n",
    "    Y_train4 = train4['PRICE']\n",
    "    Y_test4 = test4['PRICE']\n",
    "    clf4.fit(X_train4,Y_train4)\n",
    "    C4.append(clf4.score(X_test4,Y_test4)) # R^2\n",
    "\n",
    "    ########Fifth\n",
    "    clf5 = linear_model.LinearRegression()\n",
    "    train5,test5 = train.copy(),test.copy()\n",
    "    \n",
    "    train5 = train5.drop(columns,axis = 1)\n",
    "    test5 = test5.drop(columns,axis = 1)\n",
    "    \n",
    "    train5['CRIM'] = np.log(train['CRIM'])\n",
    "    train5['DIS'] = np.log(train['DIS'])\n",
    "    test5['CRIM'] = np.log(test['CRIM'])\n",
    "    test5['DIS'] = np.log(test['DIS'])\n",
    "    \n",
    "    train5.loc[train5['ZN']<10,'ZN'] = 0\n",
    "    train5.loc[train5['ZN']>=10,'ZN'] = 1\n",
    "    train5.loc[train5['B']<200,'B'] = 0\n",
    "    train5.loc[train5['B']>=200,'B'] = 1\n",
    "    test5.loc[test5['ZN']<10,'ZN'] = 0\n",
    "    test5.loc[test5['ZN']>=10,'ZN'] = 1\n",
    "    test5.loc[test5['B']<200,'B'] = 0\n",
    "    test5.loc[test5['B']>=200,'B'] = 1\n",
    "\n",
    "    X_train5 = train5.drop('PRICE',axis = 1)\n",
    "    X_test5 = test5.drop('PRICE',axis = 1)\n",
    "    Y_train5 = train5['PRICE']\n",
    "    Y_test5 = test5['PRICE']\n",
    "    clf5.fit(X_train5,Y_train5)\n",
    "    C5.append(clf5.score(X_test5,Y_test5)) # R^2\n",
    "    \n",
    "print('Basic Model')\n",
    "print(sum(C1)/2000)\n",
    "print('Model with fewer columns')\n",
    "print(sum(C2)/2000)\n",
    "print('Logarithm')\n",
    "print(sum(C3)/2000)\n",
    "print('Binarization')\n",
    "print(sum(C4)/2000)\n",
    "print('2+3+4 ways')\n",
    "print(sum(C5)/2000)"
   ]
  },
  {
   "cell_type": "markdown",
   "metadata": {},
   "source": [
    "# Summary\n",
    "We can learn the effect of Multicollinearity and various techniques to improve score.\n",
    "\n",
    "Next time, I want to know which columns should be remained or removed."
   ]
  },
  {
   "cell_type": "code",
   "execution_count": null,
   "metadata": {},
   "outputs": [],
   "source": []
  }
 ],
 "metadata": {
  "kernelspec": {
   "display_name": "Python 3",
   "language": "python",
   "name": "python3"
  },
  "language_info": {
   "codemirror_mode": {
    "name": "ipython",
    "version": 3
   },
   "file_extension": ".py",
   "mimetype": "text/x-python",
   "name": "python",
   "nbconvert_exporter": "python",
   "pygments_lexer": "ipython3",
   "version": "3.6.9"
  }
 },
 "nbformat": 4,
 "nbformat_minor": 4
}
